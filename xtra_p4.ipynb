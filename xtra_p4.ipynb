{
 "cells": [
  {
   "cell_type": "markdown",
   "id": "a9e8e0a1-c420-4c6b-a23a-ff86a7e59a5b",
   "metadata": {},
   "source": [
    "# Bonus "
   ]
  },
  {
   "cell_type": "markdown",
   "id": "fcfc3a46-c6c3-429d-a65f-2c64ab94681d",
   "metadata": {},
   "source": [
    "## Courtney Pigford  2/5/2023"
   ]
  },
  {
   "cell_type": "code",
   "execution_count": 275,
   "id": "0213a5a5-390d-4801-b724-f46a95d4408e",
   "metadata": {},
   "outputs": [],
   "source": [
    "import pandas as pd "
   ]
  },
  {
   "cell_type": "code",
   "execution_count": 276,
   "id": "e54cd1d3-fc80-42a2-b923-2862f8f14607",
   "metadata": {},
   "outputs": [],
   "source": [
    "import re "
   ]
  },
  {
   "cell_type": "markdown",
   "id": "df1fdb55-e5fd-4370-aeb8-cb7a76513d8a",
   "metadata": {},
   "source": [
    "### Data Validation "
   ]
  },
  {
   "cell_type": "code",
   "execution_count": 277,
   "id": "82af8e97-5589-4613-92fe-64f56774f3c9",
   "metadata": {},
   "outputs": [
    {
     "data": {
      "text/plain": [
       "Boston    02215\n",
       "Miami      3310\n",
       "dtype: object"
      ]
     },
     "execution_count": 277,
     "metadata": {},
     "output_type": "execute_result"
    }
   ],
   "source": [
    "zips = pd.Series({'Boston': '02215', 'Miami': '3310'})\n",
    "zips"
   ]
  },
  {
   "cell_type": "code",
   "execution_count": 278,
   "id": "8fd7cc18-2b95-4196-b756-aaa79a8ffa50",
   "metadata": {},
   "outputs": [
    {
     "data": {
      "text/plain": [
       "Boston     True\n",
       "Miami     False\n",
       "dtype: bool"
      ]
     },
     "execution_count": 278,
     "metadata": {},
     "output_type": "execute_result"
    }
   ],
   "source": [
    "zips.str.match(r'\\d{5}')"
   ]
  },
  {
   "cell_type": "code",
   "execution_count": 279,
   "id": "40272bdc-9ff0-42eb-9fe2-e7e4df52949f",
   "metadata": {},
   "outputs": [
    {
     "data": {
      "text/plain": [
       "0    Boston, MA 02215\n",
       "1     Miami, FL 33101\n",
       "dtype: object"
      ]
     },
     "execution_count": 279,
     "metadata": {},
     "output_type": "execute_result"
    }
   ],
   "source": [
    "cities = pd.Series(['Boston, MA 02215', 'Miami, FL 33101'])\n",
    "cities "
   ]
  },
  {
   "cell_type": "code",
   "execution_count": 280,
   "id": "0657a716-ccca-4825-8015-4c29a264a9ab",
   "metadata": {},
   "outputs": [
    {
     "data": {
      "text/plain": [
       "0    True\n",
       "1    True\n",
       "dtype: bool"
      ]
     },
     "execution_count": 280,
     "metadata": {},
     "output_type": "execute_result"
    }
   ],
   "source": [
    "cities.str.contains(r' [A-Z]{2} ')"
   ]
  },
  {
   "cell_type": "code",
   "execution_count": 281,
   "id": "b4b29dfc-f7c3-43ac-9c40-bad66a0a1cff",
   "metadata": {},
   "outputs": [
    {
     "data": {
      "text/plain": [
       "0    False\n",
       "1    False\n",
       "dtype: bool"
      ]
     },
     "execution_count": 281,
     "metadata": {},
     "output_type": "execute_result"
    }
   ],
   "source": [
    "cities.str.match(r' [A-Z]{2} ')"
   ]
  },
  {
   "cell_type": "markdown",
   "id": "08d66e60-93f2-4fea-9c0f-884662537166",
   "metadata": {},
   "source": [
    "#### Reformatting Your Data "
   ]
  },
  {
   "cell_type": "code",
   "execution_count": 282,
   "id": "df4d64c6-3f46-425f-945a-c5395d5116e0",
   "metadata": {},
   "outputs": [
    {
     "data": {
      "text/html": [
       "<div>\n",
       "<style scoped>\n",
       "    .dataframe tbody tr th:only-of-type {\n",
       "        vertical-align: middle;\n",
       "    }\n",
       "\n",
       "    .dataframe tbody tr th {\n",
       "        vertical-align: top;\n",
       "    }\n",
       "\n",
       "    .dataframe thead th {\n",
       "        text-align: right;\n",
       "    }\n",
       "</style>\n",
       "<table border=\"1\" class=\"dataframe\">\n",
       "  <thead>\n",
       "    <tr style=\"text-align: right;\">\n",
       "      <th></th>\n",
       "      <th>Name</th>\n",
       "      <th>Email</th>\n",
       "      <th>Phone</th>\n",
       "    </tr>\n",
       "  </thead>\n",
       "  <tbody>\n",
       "    <tr>\n",
       "      <th>0</th>\n",
       "      <td>Mike Green</td>\n",
       "      <td>demo1@deitel.com</td>\n",
       "      <td>5555555555</td>\n",
       "    </tr>\n",
       "    <tr>\n",
       "      <th>1</th>\n",
       "      <td>Sue Brown</td>\n",
       "      <td>demo2@deitel.com</td>\n",
       "      <td>5555551234</td>\n",
       "    </tr>\n",
       "  </tbody>\n",
       "</table>\n",
       "</div>"
      ],
      "text/plain": [
       "         Name             Email       Phone\n",
       "0  Mike Green  demo1@deitel.com  5555555555\n",
       "1   Sue Brown  demo2@deitel.com  5555551234"
      ]
     },
     "execution_count": 282,
     "metadata": {},
     "output_type": "execute_result"
    }
   ],
   "source": [
    "contacts = [['Mike Green', 'demo1@deitel.com', '5555555555'], \n",
    "            ['Sue Brown', 'demo2@deitel.com', '5555551234']]\n",
    "\n",
    "contactsdf = pd.DataFrame(contacts, \n",
    "                          columns=['Name', 'Email', 'Phone'])\n",
    "\n",
    "contactsdf"
   ]
  },
  {
   "cell_type": "code",
   "execution_count": 283,
   "id": "8f3367d2-11f4-4515-9964-8954bd9a7bdb",
   "metadata": {},
   "outputs": [],
   "source": [
    "import re "
   ]
  },
  {
   "cell_type": "code",
   "execution_count": 284,
   "id": "37fb3f9a-e906-4c9e-8a55-f9a046b38ad3",
   "metadata": {},
   "outputs": [],
   "source": [
    "def get_formatted_phone(value): \n",
    "    result = re.fullmatch(r'(\\d{3})(\\d{3})(\\d{4})', value)\n",
    "    return '-'.join(result.groups()) if result else value"
   ]
  },
  {
   "cell_type": "code",
   "execution_count": 285,
   "id": "f9a52b67-272b-42a3-bf22-87d8f31cad60",
   "metadata": {},
   "outputs": [],
   "source": [
    "formatted_phone = contactsdf['Phone'].map(get_formatted_phone)"
   ]
  },
  {
   "cell_type": "code",
   "execution_count": 286,
   "id": "ec8811fa-bbc8-4ce7-aca6-5a6216d51c90",
   "metadata": {},
   "outputs": [
    {
     "data": {
      "text/plain": [
       "0    555-555-5555\n",
       "1    555-555-1234\n",
       "Name: Phone, dtype: object"
      ]
     },
     "execution_count": 286,
     "metadata": {},
     "output_type": "execute_result"
    }
   ],
   "source": [
    "formatted_phone"
   ]
  },
  {
   "cell_type": "code",
   "execution_count": 287,
   "id": "c94b287d-c1c1-437f-aed7-a5acc992adb9",
   "metadata": {},
   "outputs": [],
   "source": [
    "contactsdf['Phone'] = formatted_phone "
   ]
  },
  {
   "cell_type": "code",
   "execution_count": 288,
   "id": "bc9a5941-b34c-4597-9725-5d1fa207b81a",
   "metadata": {},
   "outputs": [
    {
     "data": {
      "text/html": [
       "<div>\n",
       "<style scoped>\n",
       "    .dataframe tbody tr th:only-of-type {\n",
       "        vertical-align: middle;\n",
       "    }\n",
       "\n",
       "    .dataframe tbody tr th {\n",
       "        vertical-align: top;\n",
       "    }\n",
       "\n",
       "    .dataframe thead th {\n",
       "        text-align: right;\n",
       "    }\n",
       "</style>\n",
       "<table border=\"1\" class=\"dataframe\">\n",
       "  <thead>\n",
       "    <tr style=\"text-align: right;\">\n",
       "      <th></th>\n",
       "      <th>Name</th>\n",
       "      <th>Email</th>\n",
       "      <th>Phone</th>\n",
       "    </tr>\n",
       "  </thead>\n",
       "  <tbody>\n",
       "    <tr>\n",
       "      <th>0</th>\n",
       "      <td>Mike Green</td>\n",
       "      <td>demo1@deitel.com</td>\n",
       "      <td>555-555-5555</td>\n",
       "    </tr>\n",
       "    <tr>\n",
       "      <th>1</th>\n",
       "      <td>Sue Brown</td>\n",
       "      <td>demo2@deitel.com</td>\n",
       "      <td>555-555-1234</td>\n",
       "    </tr>\n",
       "  </tbody>\n",
       "</table>\n",
       "</div>"
      ],
      "text/plain": [
       "         Name             Email         Phone\n",
       "0  Mike Green  demo1@deitel.com  555-555-5555\n",
       "1   Sue Brown  demo2@deitel.com  555-555-1234"
      ]
     },
     "execution_count": 288,
     "metadata": {},
     "output_type": "execute_result"
    }
   ],
   "source": [
    "contactsdf"
   ]
  },
  {
   "cell_type": "code",
   "execution_count": 289,
   "id": "a474a97b-ed51-4da5-87ae-324880db31b9",
   "metadata": {},
   "outputs": [],
   "source": [
    "import pandas as pd\n",
    "import re"
   ]
  },
  {
   "cell_type": "code",
   "execution_count": 290,
   "id": "28f46a75-ad32-4b5e-b712-d8c521107039",
   "metadata": {
    "tags": []
   },
   "outputs": [],
   "source": [
    "contacts = [['Mike Green', 'demo1@deitel.com', '5555555555'], \n",
    "            ['Sue Brown', 'demo2@deitel.com', '5555551234']]"
   ]
  },
  {
   "cell_type": "code",
   "execution_count": 291,
   "id": "82acbdba-aa0e-4e89-8359-ea09e313a3ee",
   "metadata": {},
   "outputs": [],
   "source": [
    "contactsdf = pd.DataFrame(contacts, \n",
    "                          columns=['Name', 'Email', 'Phone'])"
   ]
  },
  {
   "cell_type": "code",
   "execution_count": 292,
   "id": "f57e233d-2246-4989-b057-b12a24c04705",
   "metadata": {
    "tags": []
   },
   "outputs": [],
   "source": [
    "def get_formatted_phone(value): \n",
    "    result = re.fullmatch(r'(\\d{3})(\\d{3})(\\d{4})', value)\n",
    "    if result: \n",
    "        part1, part2, part3 = result.groups()\n",
    "        return '(' +part1 + ')' + part2 + '-' + part3\n",
    "    else: \n",
    "        return value"
   ]
  },
  {
   "cell_type": "code",
   "execution_count": 293,
   "id": "5cac9505-75c5-4c90-9343-8c3dea9c3840",
   "metadata": {},
   "outputs": [],
   "source": [
    "contactsdf['Phone'] = contactsdf['Phone'].map(get_formatted_phone)"
   ]
  },
  {
   "cell_type": "code",
   "execution_count": 294,
   "id": "e3a7459e-465d-4614-9a88-0add19261f98",
   "metadata": {},
   "outputs": [
    {
     "data": {
      "text/html": [
       "<div>\n",
       "<style scoped>\n",
       "    .dataframe tbody tr th:only-of-type {\n",
       "        vertical-align: middle;\n",
       "    }\n",
       "\n",
       "    .dataframe tbody tr th {\n",
       "        vertical-align: top;\n",
       "    }\n",
       "\n",
       "    .dataframe thead th {\n",
       "        text-align: right;\n",
       "    }\n",
       "</style>\n",
       "<table border=\"1\" class=\"dataframe\">\n",
       "  <thead>\n",
       "    <tr style=\"text-align: right;\">\n",
       "      <th></th>\n",
       "      <th>Name</th>\n",
       "      <th>Email</th>\n",
       "      <th>Phone</th>\n",
       "    </tr>\n",
       "  </thead>\n",
       "  <tbody>\n",
       "    <tr>\n",
       "      <th>0</th>\n",
       "      <td>Mike Green</td>\n",
       "      <td>demo1@deitel.com</td>\n",
       "      <td>(555)555-5555</td>\n",
       "    </tr>\n",
       "    <tr>\n",
       "      <th>1</th>\n",
       "      <td>Sue Brown</td>\n",
       "      <td>demo2@deitel.com</td>\n",
       "      <td>(555)555-1234</td>\n",
       "    </tr>\n",
       "  </tbody>\n",
       "</table>\n",
       "</div>"
      ],
      "text/plain": [
       "         Name             Email          Phone\n",
       "0  Mike Green  demo1@deitel.com  (555)555-5555\n",
       "1   Sue Brown  demo2@deitel.com  (555)555-1234"
      ]
     },
     "execution_count": 294,
     "metadata": {},
     "output_type": "execute_result"
    }
   ],
   "source": [
    "contactsdf"
   ]
  }
 ],
 "metadata": {
  "kernelspec": {
   "display_name": "Python 3 (ipykernel)",
   "language": "python",
   "name": "python3"
  },
  "language_info": {
   "codemirror_mode": {
    "name": "ipython",
    "version": 3
   },
   "file_extension": ".py",
   "mimetype": "text/x-python",
   "name": "python",
   "nbconvert_exporter": "python",
   "pygments_lexer": "ipython3",
   "version": "3.9.13"
  }
 },
 "nbformat": 4,
 "nbformat_minor": 5
}
