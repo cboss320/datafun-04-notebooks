{
 "cells": [
  {
   "cell_type": "code",
   "execution_count": 27,
   "id": "022708db",
   "metadata": {},
   "outputs": [
    {
     "data": {
      "text/plain": [
       "['A, B, C, D']"
      ]
     },
     "execution_count": 27,
     "metadata": {},
     "output_type": "execute_result"
    }
   ],
   "source": [
    "letters = 'A, B, C, D'\n",
    "letters.split(' ,')"
   ]
  },
  {
   "cell_type": "code",
   "execution_count": 28,
   "id": "9ef7077e",
   "metadata": {},
   "outputs": [
    {
     "data": {
      "text/plain": [
       "['A', 'B', 'C, D']"
      ]
     },
     "execution_count": 28,
     "metadata": {},
     "output_type": "execute_result"
    }
   ],
   "source": [
    "letters.split(', ', 2)"
   ]
  },
  {
   "cell_type": "code",
   "execution_count": 29,
   "id": "0812bd15",
   "metadata": {},
   "outputs": [
    {
     "data": {
      "text/plain": [
       "'A,B,C,D'"
      ]
     },
     "execution_count": 29,
     "metadata": {},
     "output_type": "execute_result"
    }
   ],
   "source": [
    "letters_list = ['A', 'B', 'C', 'D']\n",
    "','.join(letters_list)"
   ]
  },
  {
   "cell_type": "code",
   "execution_count": 30,
   "id": "15064f94",
   "metadata": {},
   "outputs": [
    {
     "data": {
      "text/plain": [
       "'0,1,2,3,4,5,6,7,8,9'"
      ]
     },
     "execution_count": 30,
     "metadata": {},
     "output_type": "execute_result"
    }
   ],
   "source": [
    "','.join([str(i) for i in range(10)])"
   ]
  },
  {
   "cell_type": "code",
   "execution_count": 31,
   "id": "a11a7401",
   "metadata": {},
   "outputs": [
    {
     "data": {
      "text/plain": [
       "('Amanda', ': ', '89, 97, 92')"
      ]
     },
     "execution_count": 31,
     "metadata": {},
     "output_type": "execute_result"
    }
   ],
   "source": [
    "'Amanda: 89, 97, 92'.partition(': ')"
   ]
  },
  {
   "cell_type": "code",
   "execution_count": 32,
   "id": "4f4a6364",
   "metadata": {},
   "outputs": [
    {
     "data": {
      "text/plain": [
       "'table_of_contets.html'"
      ]
     },
     "execution_count": 32,
     "metadata": {},
     "output_type": "execute_result"
    }
   ],
   "source": [
    "url = 'http://www.deitel.com/books/PyCDS/table_of_contets.html'\n",
    "rest_of_url, separator, document = url.rpartition('/')\n",
    "document"
   ]
  },
  {
   "cell_type": "code",
   "execution_count": 33,
   "id": "b0d9c83d",
   "metadata": {},
   "outputs": [
    {
     "data": {
      "text/plain": [
       "'http://www.deitel.com/books/PyCDS'"
      ]
     },
     "execution_count": 33,
     "metadata": {},
     "output_type": "execute_result"
    }
   ],
   "source": [
    "rest_of_url"
   ]
  },
  {
   "cell_type": "code",
   "execution_count": 34,
   "id": "c3dd6594",
   "metadata": {},
   "outputs": [
    {
     "data": {
      "text/plain": [
       "'This is line 1\\nThis is line2\\nThis is line3'"
      ]
     },
     "execution_count": 34,
     "metadata": {},
     "output_type": "execute_result"
    }
   ],
   "source": [
    "lines = \"\"\"This is line 1\n",
    "This is line2\n",
    "This is line3\"\"\"\n",
    "\n",
    "lines"
   ]
  },
  {
   "cell_type": "code",
   "execution_count": 35,
   "id": "360a2249",
   "metadata": {},
   "outputs": [
    {
     "data": {
      "text/plain": [
       "['This is line 1\\n', 'This is line2\\n', 'This is line3']"
      ]
     },
     "execution_count": 35,
     "metadata": {},
     "output_type": "execute_result"
    }
   ],
   "source": [
    "lines.splitlines(True)"
   ]
  },
  {
   "cell_type": "code",
   "execution_count": 36,
   "id": "a39b6cf8",
   "metadata": {},
   "outputs": [
    {
     "data": {
      "text/plain": [
       "'C:\\\\Myfolder\\\\MySubFolder\\\\MyFile.txt'"
      ]
     },
     "execution_count": 36,
     "metadata": {},
     "output_type": "execute_result"
    }
   ],
   "source": [
    "file_path = 'C:\\\\Myfolder\\\\MySubFolder\\\\MyFile.txt'\n",
    "\n",
    "file_path"
   ]
  },
  {
   "cell_type": "code",
   "execution_count": 37,
   "id": "cf09a5b9",
   "metadata": {},
   "outputs": [
    {
     "data": {
      "text/plain": [
       "'C:\\\\\\\\Myfolder\\\\\\\\MySubFolder\\\\\\\\MyFile.txt'"
      ]
     },
     "execution_count": 37,
     "metadata": {},
     "output_type": "execute_result"
    }
   ],
   "source": [
    "file_path = r'C:\\\\Myfolder\\\\MySubFolder\\\\MyFile.txt'\n",
    "\n",
    "file_path"
   ]
  },
  {
   "cell_type": "code",
   "execution_count": 38,
   "id": "519d006d",
   "metadata": {},
   "outputs": [
    {
     "data": {
      "text/plain": [
       "'Match'"
      ]
     },
     "execution_count": 38,
     "metadata": {},
     "output_type": "execute_result"
    }
   ],
   "source": [
    "import re \n",
    "pattern = '02215' \n",
    "'Match' if re.fullmatch(pattern, '02215') else 'No match'"
   ]
  },
  {
   "cell_type": "code",
   "execution_count": 39,
   "id": "d3a84361",
   "metadata": {},
   "outputs": [
    {
     "data": {
      "text/plain": [
       "'No match'"
      ]
     },
     "execution_count": 39,
     "metadata": {},
     "output_type": "execute_result"
    }
   ],
   "source": [
    "pattern = '02215'\n",
    "'Match' if re.fullmatch(pattern, '51220') else 'No match'"
   ]
  },
  {
   "cell_type": "code",
   "execution_count": 40,
   "id": "c87a727e",
   "metadata": {},
   "outputs": [
    {
     "data": {
      "text/plain": [
       "'Valid'"
      ]
     },
     "execution_count": 40,
     "metadata": {},
     "output_type": "execute_result"
    }
   ],
   "source": [
    "'Valid' if re.fullmatch(r'\\d{5}', '02215') else 'Invalid'"
   ]
  },
  {
   "cell_type": "code",
   "execution_count": 41,
   "id": "b63eb202",
   "metadata": {},
   "outputs": [
    {
     "data": {
      "text/plain": [
       "'Invalid'"
      ]
     },
     "execution_count": 41,
     "metadata": {},
     "output_type": "execute_result"
    }
   ],
   "source": [
    "'Valid' if re.fullmatch(r'\\d{5}', '9876') else 'Invalid'"
   ]
  },
  {
   "cell_type": "code",
   "execution_count": 42,
   "id": "a529a575",
   "metadata": {},
   "outputs": [
    {
     "data": {
      "text/plain": [
       "'Valid'"
      ]
     },
     "execution_count": 42,
     "metadata": {},
     "output_type": "execute_result"
    }
   ],
   "source": [
    "'Valid' if re.fullmatch('[A-Z][a-z]*', 'Wally') else 'Invalid'"
   ]
  },
  {
   "cell_type": "code",
   "execution_count": 43,
   "id": "48694ce9",
   "metadata": {},
   "outputs": [
    {
     "data": {
      "text/plain": [
       "'Invalid'"
      ]
     },
     "execution_count": 43,
     "metadata": {},
     "output_type": "execute_result"
    }
   ],
   "source": [
    "'Valid' if re.fullmatch('[A-Z][a-z]*', 'eva') else 'Invalid'"
   ]
  },
  {
   "cell_type": "code",
   "execution_count": 44,
   "id": "523ed447",
   "metadata": {},
   "outputs": [
    {
     "data": {
      "text/plain": [
       "'Match'"
      ]
     },
     "execution_count": 44,
     "metadata": {},
     "output_type": "execute_result"
    }
   ],
   "source": [
    "'Match' if re.fullmatch('[^a-z]', 'A') else 'No Match'"
   ]
  },
  {
   "cell_type": "code",
   "execution_count": 45,
   "id": "89e32930",
   "metadata": {},
   "outputs": [
    {
     "data": {
      "text/plain": [
       "'No Match'"
      ]
     },
     "execution_count": 45,
     "metadata": {},
     "output_type": "execute_result"
    }
   ],
   "source": [
    "'Match' if re.fullmatch('[^a-z]', 'a') else 'No Match'"
   ]
  },
  {
   "cell_type": "code",
   "execution_count": 46,
   "id": "ba03a7b0",
   "metadata": {},
   "outputs": [
    {
     "data": {
      "text/plain": [
       "'Match'"
      ]
     },
     "execution_count": 46,
     "metadata": {},
     "output_type": "execute_result"
    }
   ],
   "source": [
    "'Match' if re.fullmatch('[*+$]', '*') else 'No Match'"
   ]
  },
  {
   "cell_type": "code",
   "execution_count": 47,
   "id": "4f78e5e9",
   "metadata": {},
   "outputs": [
    {
     "data": {
      "text/plain": [
       "'No Match'"
      ]
     },
     "execution_count": 47,
     "metadata": {},
     "output_type": "execute_result"
    }
   ],
   "source": [
    "'Match' if re.fullmatch('[*+$]', '!') else 'No Match'"
   ]
  },
  {
   "cell_type": "code",
   "execution_count": 48,
   "id": "be92642d",
   "metadata": {},
   "outputs": [
    {
     "data": {
      "text/plain": [
       "'Valid'"
      ]
     },
     "execution_count": 48,
     "metadata": {},
     "output_type": "execute_result"
    }
   ],
   "source": [
    "'Valid' if re.fullmatch('[A-Z][a-z]+', 'Wally') else 'Invalid'"
   ]
  },
  {
   "cell_type": "code",
   "execution_count": 49,
   "id": "0698b1a8",
   "metadata": {},
   "outputs": [
    {
     "data": {
      "text/plain": [
       "'Invalid'"
      ]
     },
     "execution_count": 49,
     "metadata": {},
     "output_type": "execute_result"
    }
   ],
   "source": [
    "'Valid' if re.fullmatch('[A-Z][a-z]+', 'E') else 'Invalid'"
   ]
  },
  {
   "cell_type": "code",
   "execution_count": 50,
   "id": "ca074e2f",
   "metadata": {},
   "outputs": [
    {
     "data": {
      "text/plain": [
       "'No Match'"
      ]
     },
     "execution_count": 50,
     "metadata": {},
     "output_type": "execute_result"
    }
   ],
   "source": [
    "'Match' if re.fullmatch('labell?ed', 'laelled') else 'No Match'"
   ]
  },
  {
   "cell_type": "code",
   "execution_count": 51,
   "id": "013e5667",
   "metadata": {},
   "outputs": [
    {
     "data": {
      "text/plain": [
       "'Match'"
      ]
     },
     "execution_count": 51,
     "metadata": {},
     "output_type": "execute_result"
    }
   ],
   "source": [
    "'Match' if re.fullmatch('labell?ed', 'labeled') else 'No Match'"
   ]
  },
  {
   "cell_type": "code",
   "execution_count": 52,
   "id": "21d9c5c4",
   "metadata": {},
   "outputs": [
    {
     "data": {
      "text/plain": [
       "'No Match'"
      ]
     },
     "execution_count": 52,
     "metadata": {},
     "output_type": "execute_result"
    }
   ],
   "source": [
    "'Match' if re.fullmatch('labell?ed', 'labellled') else 'No Match'"
   ]
  },
  {
   "cell_type": "code",
   "execution_count": 53,
   "id": "33f6f189",
   "metadata": {},
   "outputs": [
    {
     "data": {
      "text/plain": [
       "'Match'"
      ]
     },
     "execution_count": 53,
     "metadata": {},
     "output_type": "execute_result"
    }
   ],
   "source": [
    "'Match' if re.fullmatch(r'\\d{3,}' , '123') else 'No Match'"
   ]
  },
  {
   "cell_type": "code",
   "execution_count": 54,
   "id": "85a3e9c4",
   "metadata": {},
   "outputs": [
    {
     "data": {
      "text/plain": [
       "'Match'"
      ]
     },
     "execution_count": 54,
     "metadata": {},
     "output_type": "execute_result"
    }
   ],
   "source": [
    "'Match' if re.fullmatch(r'\\d{3,}' , '1234567890') else 'No Match'"
   ]
  },
  {
   "cell_type": "code",
   "execution_count": 55,
   "id": "03a5b108",
   "metadata": {},
   "outputs": [
    {
     "data": {
      "text/plain": [
       "'No Match'"
      ]
     },
     "execution_count": 55,
     "metadata": {},
     "output_type": "execute_result"
    }
   ],
   "source": [
    "'Match' if re.fullmatch(r'\\d{3,}' , '12') else 'No Match'"
   ]
  },
  {
   "cell_type": "markdown",
   "id": "03ffb4a0",
   "metadata": {},
   "source": []
  },
  {
   "cell_type": "code",
   "execution_count": 56,
   "id": "c9d1c225",
   "metadata": {},
   "outputs": [
    {
     "data": {
      "text/plain": [
       "'1, 2, 3, 4'"
      ]
     },
     "execution_count": 56,
     "metadata": {},
     "output_type": "execute_result"
    }
   ],
   "source": [
    "import re\n",
    "re.sub(r'\\t', ', ', '1\\t2\\t3\\t4')\n"
   ]
  },
  {
   "cell_type": "code",
   "execution_count": 57,
   "id": "e27595ef",
   "metadata": {},
   "outputs": [
    {
     "data": {
      "text/plain": [
       "'1, 2, 3\\t4'"
      ]
     },
     "execution_count": 57,
     "metadata": {},
     "output_type": "execute_result"
    }
   ],
   "source": [
    "re.sub(r'\\t', ', ', '1\\t2\\t3\\t4', count=2)"
   ]
  },
  {
   "cell_type": "code",
   "execution_count": 58,
   "id": "92fe129f",
   "metadata": {},
   "outputs": [
    {
     "data": {
      "text/plain": [
       "['1', '2', '3', '4', '5', '6', '7', '8']"
      ]
     },
     "execution_count": 58,
     "metadata": {},
     "output_type": "execute_result"
    }
   ],
   "source": [
    "re.split(r',\\s*', '1, 2, 3, 4,    5,6,7,8')"
   ]
  },
  {
   "cell_type": "code",
   "execution_count": 59,
   "id": "4a924de5",
   "metadata": {},
   "outputs": [
    {
     "data": {
      "text/plain": [
       "['1', '2', '3', '4,      5,6,7,8']"
      ]
     },
     "execution_count": 59,
     "metadata": {},
     "output_type": "execute_result"
    }
   ],
   "source": [
    "re.split(r',\\s*', '1, 2,  3,4,      5,6,7,8', maxsplit=3)"
   ]
  },
  {
   "cell_type": "code",
   "execution_count": 60,
   "id": "76acaf20",
   "metadata": {},
   "outputs": [
    {
     "data": {
      "text/plain": [
       "'Python'"
      ]
     },
     "execution_count": 60,
     "metadata": {},
     "output_type": "execute_result"
    }
   ],
   "source": [
    "import re\n",
    "result = re.search('Python', 'Python give me a headache')\n",
    "result.group() if result else 'not found'"
   ]
  },
  {
   "cell_type": "code",
   "execution_count": 61,
   "id": "3d4b5e43",
   "metadata": {},
   "outputs": [
    {
     "data": {
      "text/plain": [
       "'not found'"
      ]
     },
     "execution_count": 61,
     "metadata": {},
     "output_type": "execute_result"
    }
   ],
   "source": [
    "result2 = re.search('pain!', 'Python is pain')\n",
    "result2.group() if result2 else 'not found'"
   ]
  },
  {
   "cell_type": "code",
   "execution_count": 62,
   "id": "5d987c8a",
   "metadata": {},
   "outputs": [
    {
     "data": {
      "text/plain": [
       "'SAM'"
      ]
     },
     "execution_count": 62,
     "metadata": {},
     "output_type": "execute_result"
    }
   ],
   "source": [
    "result3 = re.search('Sam', 'SAM WHITE', flags=re.IGNORECASE)\n",
    "result3.group() if result3 else 'not found'"
   ]
  },
  {
   "cell_type": "code",
   "execution_count": 63,
   "id": "a79f0cc9",
   "metadata": {},
   "outputs": [
    {
     "data": {
      "text/plain": [
       "['555-555-1234', '555-555-4321']"
      ]
     },
     "execution_count": 63,
     "metadata": {},
     "output_type": "execute_result"
    }
   ],
   "source": [
    "contact = 'Wally White, Home: 555-555-1234, Work: 555-555-4321'\n",
    "re.findall(r'\\d{3}-\\d{3}-\\d{4}', contact)\n"
   ]
  },
  {
   "cell_type": "code",
   "execution_count": 64,
   "id": "183c906a",
   "metadata": {},
   "outputs": [
    {
     "name": "stdout",
     "output_type": "stream",
     "text": [
      "555-555-1234\n",
      "555-555-4321\n"
     ]
    }
   ],
   "source": [
    "for phone in re.finditer(r'\\d{3}-\\d{3}-\\d{4}', contact):\n",
    "    print(phone.group())"
   ]
  },
  {
   "cell_type": "code",
   "execution_count": 66,
   "id": "ea6f1c37",
   "metadata": {},
   "outputs": [
    {
     "data": {
      "text/plain": [
       "'Charlie Cyan, e-mail: demo1@deitel.com'"
      ]
     },
     "execution_count": 66,
     "metadata": {},
     "output_type": "execute_result"
    }
   ],
   "source": [
    "text = 'Charlie Cyan, e-mail: demo1@deitel.com'\n",
    "pattern = r'([A-Z][a-z]+ [A-Z][a-z]+), e-mail: (\\w+@\\w+\\.\\w{3})'\n",
    "result = re.search(pattern, text)\n",
    "result.group()\n"
   ]
  },
  {
   "cell_type": "code",
   "execution_count": 67,
   "id": "c51ecabf",
   "metadata": {},
   "outputs": [
    {
     "data": {
      "text/plain": [
       "('Charlie Cyan', 'demo1@deitel.com')"
      ]
     },
     "execution_count": 67,
     "metadata": {},
     "output_type": "execute_result"
    }
   ],
   "source": [
    "result.groups()"
   ]
  },
  {
   "cell_type": "code",
   "execution_count": 68,
   "id": "4dba91ab",
   "metadata": {},
   "outputs": [
    {
     "data": {
      "text/plain": [
       "'Charlie Cyan'"
      ]
     },
     "execution_count": 68,
     "metadata": {},
     "output_type": "execute_result"
    }
   ],
   "source": [
    "result.group(1)"
   ]
  },
  {
   "cell_type": "code",
   "execution_count": 69,
   "id": "9f3796ca",
   "metadata": {},
   "outputs": [
    {
     "data": {
      "text/plain": [
       "'demo1@deitel.com'"
      ]
     },
     "execution_count": 69,
     "metadata": {},
     "output_type": "execute_result"
    }
   ],
   "source": [
    "result.group(2)"
   ]
  }
 ],
 "metadata": {
  "kernelspec": {
   "display_name": "Python 3",
   "language": "python",
   "name": "python3"
  },
  "language_info": {
   "codemirror_mode": {
    "name": "ipython",
    "version": 3
   },
   "file_extension": ".py",
   "mimetype": "text/x-python",
   "name": "python",
   "nbconvert_exporter": "python",
   "pygments_lexer": "ipython3",
   "version": "3.11.1"
  },
  "vscode": {
   "interpreter": {
    "hash": "1a1af0ee75eeea9e2e1ee996c87e7a2b11a0bebd85af04bb136d915cefc0abce"
   }
  }
 },
 "nbformat": 4,
 "nbformat_minor": 5
}
