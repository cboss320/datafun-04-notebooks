{
 "cells": [
  {
   "cell_type": "markdown",
   "id": "64bb75dd-fd41-4c1e-b44a-b6eea84c782c",
   "metadata": {},
   "source": [
    "# Courtney Pigford's Module 4 Project "
   ]
  },
  {
   "cell_type": "code",
   "execution_count": null,
   "id": "31f9ae16-4cd5-4368-b549-3696c1477a9a",
   "metadata": {},
   "outputs": [],
   "source": []
  },
  {
   "cell_type": "markdown",
   "id": "81fb40f3-ffec-4c4a-b44b-67630a0b35a9",
   "metadata": {},
   "source": [
    "## Task 1 - Series "
   ]
  },
  {
   "cell_type": "code",
   "execution_count": null,
   "id": "b2961214-4931-4c5e-b7a0-63a868d4988a",
   "metadata": {},
   "outputs": [],
   "source": [
    "import pandas as  pd "
   ]
  },
  {
   "cell_type": "code",
   "execution_count": null,
   "id": "66041852-de05-453d-80e3-47c0f26808c2",
   "metadata": {},
   "outputs": [],
   "source": [
    "grades = pd.Series([ 88, 99, 100 95, 92, 93]) "
   ]
  },
  {
   "cell_type": "code",
   "execution_count": 6,
   "id": "8ba56a59-c44d-4184-802b-114c2a17e6fa",
   "metadata": {},
   "outputs": [
    {
     "data": {
      "text/plain": [
       "0     87\n",
       "1    100\n",
       "2     97\n",
       "3     94\n",
       "4     89\n",
       "dtype: int64"
      ]
     },
     "execution_count": 6,
     "metadata": {},
     "output_type": "execute_result"
    }
   ],
   "source": [
    "grades "
   ]
  },
  {
   "cell_type": "code",
   "execution_count": 7,
   "id": "ccfb06fa-b235-4744-8904-d24db91b0aa2",
   "metadata": {},
   "outputs": [
    {
     "data": {
      "text/plain": [
       "5"
      ]
     },
     "execution_count": 7,
     "metadata": {},
     "output_type": "execute_result"
    }
   ],
   "source": [
    "grades.count()"
   ]
  },
  {
   "cell_type": "code",
   "execution_count": 8,
   "id": "06d4c551-5d36-48ba-87d5-c956eedc3e27",
   "metadata": {},
   "outputs": [
    {
     "data": {
      "text/plain": [
       "93.4"
      ]
     },
     "execution_count": 8,
     "metadata": {},
     "output_type": "execute_result"
    }
   ],
   "source": [
    "grades.mean()"
   ]
  },
  {
   "cell_type": "code",
   "execution_count": 9,
   "id": "e725c958-936d-4f73-9815-6dd63253b544",
   "metadata": {},
   "outputs": [
    {
     "data": {
      "text/plain": [
       "87"
      ]
     },
     "execution_count": 9,
     "metadata": {},
     "output_type": "execute_result"
    }
   ],
   "source": [
    "grades.min()"
   ]
  },
  {
   "cell_type": "raw",
   "id": "d5fa25f9-a3fb-4851-8f80-7a271ec0468a",
   "metadata": {},
   "source": []
  },
  {
   "cell_type": "code",
   "execution_count": 10,
   "id": "3ad7541a-bd23-47d4-afd6-1cf2a1bae485",
   "metadata": {},
   "outputs": [
    {
     "data": {
      "text/plain": [
       "100"
      ]
     },
     "execution_count": 10,
     "metadata": {},
     "output_type": "execute_result"
    }
   ],
   "source": [
    "grades.max()"
   ]
  },
  {
   "cell_type": "code",
   "execution_count": 11,
   "id": "0dc0ed9a-b8a0-4969-8be1-721547d40189",
   "metadata": {},
   "outputs": [
    {
     "data": {
      "text/plain": [
       "5.412947441089743"
      ]
     },
     "execution_count": 11,
     "metadata": {},
     "output_type": "execute_result"
    }
   ],
   "source": [
    "grades.std()"
   ]
  },
  {
   "cell_type": "code",
   "execution_count": 12,
   "id": "ee1a82c5-f689-4a47-93a3-0af84ef45420",
   "metadata": {},
   "outputs": [
    {
     "data": {
      "text/plain": [
       "count      5.000000\n",
       "mean      93.400000\n",
       "std        5.412947\n",
       "min       87.000000\n",
       "25%       89.000000\n",
       "50%       94.000000\n",
       "75%       97.000000\n",
       "max      100.000000\n",
       "dtype: float64"
      ]
     },
     "execution_count": 12,
     "metadata": {},
     "output_type": "execute_result"
    }
   ],
   "source": [
    "grades.describe()"
   ]
  },
  {
   "cell_type": "markdown",
   "id": "28c61072-d090-4298-af65-dbd57f04e629",
   "metadata": {},
   "source": [
    "## Task 2 - Series from Dictionary "
   ]
  },
  {
   "cell_type": "code",
   "execution_count": 17,
   "id": "87833b0e-0d81-41d2-87ba-1911b8bca62d",
   "metadata": {},
   "outputs": [],
   "source": [
    "grades = pd.Series([99, 87, 75], index=['Wally', 'Eva', 'Sam'])"
   ]
  },
  {
   "cell_type": "code",
   "execution_count": 18,
   "id": "138158c9-2c49-4b62-9ade-b998577715c5",
   "metadata": {},
   "outputs": [
    {
     "data": {
      "text/plain": [
       "Wally    99\n",
       "Eva      87\n",
       "Sam      75\n",
       "dtype: int64"
      ]
     },
     "execution_count": 18,
     "metadata": {},
     "output_type": "execute_result"
    }
   ],
   "source": [
    "grades"
   ]
  },
  {
   "cell_type": "code",
   "execution_count": 20,
   "id": "1eb63aaa-7367-4f53-a085-984b35aad52c",
   "metadata": {},
   "outputs": [
    {
     "data": {
      "text/plain": [
       "87"
      ]
     },
     "execution_count": 20,
     "metadata": {},
     "output_type": "execute_result"
    }
   ],
   "source": [
    "grades['Eva']"
   ]
  },
  {
   "cell_type": "code",
   "execution_count": 21,
   "id": "8346bbd0-1ec5-4647-92b8-e1c16c929e98",
   "metadata": {},
   "outputs": [
    {
     "data": {
      "text/plain": [
       "99"
      ]
     },
     "execution_count": 21,
     "metadata": {},
     "output_type": "execute_result"
    }
   ],
   "source": [
    "grades.Wally"
   ]
  },
  {
   "cell_type": "code",
   "execution_count": 23,
   "id": "ceb21187-eaa8-4675-9d15-45d34130e290",
   "metadata": {},
   "outputs": [
    {
     "data": {
      "text/plain": [
       "array([99, 87, 75])"
      ]
     },
     "execution_count": 23,
     "metadata": {},
     "output_type": "execute_result"
    }
   ],
   "source": [
    "grades.values"
   ]
  },
  {
   "cell_type": "code",
   "execution_count": null,
   "id": "215712d9-8719-40f2-8a60-ea8691148bbf",
   "metadata": {},
   "outputs": [],
   "source": []
  }
 ],
 "metadata": {
  "kernelspec": {
   "display_name": "Python 3 (ipykernel)",
   "language": "python",
   "name": "python3"
  },
  "language_info": {
   "codemirror_mode": {
    "name": "ipython",
    "version": 3
   },
   "file_extension": ".py",
   "mimetype": "text/x-python",
   "name": "python",
   "nbconvert_exporter": "python",
   "pygments_lexer": "ipython3",
   "version": "3.9.13"
  }
 },
 "nbformat": 4,
 "nbformat_minor": 5
}
