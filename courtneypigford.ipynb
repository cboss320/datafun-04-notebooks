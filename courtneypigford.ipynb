{
 "cells": [
  {
   "cell_type": "markdown",
   "id": "64bb75dd-fd41-4c1e-b44a-b6eea84c782c",
   "metadata": {},
   "source": [
    "# Courtney Pigford's Module 4 Project "
   ]
  },
  {
   "cell_type": "code",
   "execution_count": 1,
   "id": "31f9ae16-4cd5-4368-b549-3696c1477a9a",
   "metadata": {},
   "outputs": [],
   "source": [
    "import numpy as np"
   ]
  },
  {
   "cell_type": "markdown",
   "id": "81fb40f3-ffec-4c4a-b44b-67630a0b35a9",
   "metadata": {},
   "source": [
    "## Task 1 - Series "
   ]
  },
  {
   "cell_type": "code",
   "execution_count": 2,
   "id": "b2961214-4931-4c5e-b7a0-63a868d4988a",
   "metadata": {},
   "outputs": [],
   "source": [
    "import pandas as pd"
   ]
  },
  {
   "cell_type": "code",
   "execution_count": 3,
   "id": "66041852-de05-453d-80e3-47c0f26808c2",
   "metadata": {},
   "outputs": [
    {
     "ename": "SyntaxError",
     "evalue": "invalid syntax (2053901341.py, line 1)",
     "output_type": "error",
     "traceback": [
      "\u001b[0;36m  File \u001b[0;32m\"/var/folders/48/6w_jrgjs73j9jkmfqz1zzd7m0000gq/T/ipykernel_3594/2053901341.py\"\u001b[0;36m, line \u001b[0;32m1\u001b[0m\n\u001b[0;31m    grades = pd.Series([ 88, 99, 100 95, 92, 93])\u001b[0m\n\u001b[0m                                     ^\u001b[0m\n\u001b[0;31mSyntaxError\u001b[0m\u001b[0;31m:\u001b[0m invalid syntax\n"
     ]
    }
   ],
   "source": [
    "grades = pd.Series([ 88, 99, 100 95, 92, 93]) "
   ]
  },
  {
   "cell_type": "code",
   "execution_count": null,
   "id": "8ba56a59-c44d-4184-802b-114c2a17e6fa",
   "metadata": {},
   "outputs": [],
   "source": [
    "grades "
   ]
  },
  {
   "cell_type": "code",
   "execution_count": null,
   "id": "ccfb06fa-b235-4744-8904-d24db91b0aa2",
   "metadata": {},
   "outputs": [],
   "source": [
    "grades.count()"
   ]
  },
  {
   "cell_type": "code",
   "execution_count": null,
   "id": "06d4c551-5d36-48ba-87d5-c956eedc3e27",
   "metadata": {},
   "outputs": [],
   "source": [
    "grades.mean()"
   ]
  },
  {
   "cell_type": "code",
   "execution_count": null,
   "id": "e725c958-936d-4f73-9815-6dd63253b544",
   "metadata": {},
   "outputs": [],
   "source": [
    "grades.min()"
   ]
  },
  {
   "cell_type": "raw",
   "id": "d5fa25f9-a3fb-4851-8f80-7a271ec0468a",
   "metadata": {},
   "source": []
  },
  {
   "cell_type": "code",
   "execution_count": null,
   "id": "3ad7541a-bd23-47d4-afd6-1cf2a1bae485",
   "metadata": {},
   "outputs": [],
   "source": [
    "grades.max()"
   ]
  },
  {
   "cell_type": "code",
   "execution_count": null,
   "id": "0dc0ed9a-b8a0-4969-8be1-721547d40189",
   "metadata": {},
   "outputs": [],
   "source": [
    "grades.std()"
   ]
  },
  {
   "cell_type": "code",
   "execution_count": null,
   "id": "ee1a82c5-f689-4a47-93a3-0af84ef45420",
   "metadata": {},
   "outputs": [],
   "source": [
    "grades.describe()"
   ]
  },
  {
   "cell_type": "markdown",
   "id": "28c61072-d090-4298-af65-dbd57f04e629",
   "metadata": {},
   "source": [
    "## Task 2 - Series from Dictionary "
   ]
  },
  {
   "cell_type": "code",
   "execution_count": null,
   "id": "87833b0e-0d81-41d2-87ba-1911b8bca62d",
   "metadata": {},
   "outputs": [],
   "source": [
    "grades = pd.Series([99, 87, 75], index=['Wally', 'Eva', 'Sam'])"
   ]
  },
  {
   "cell_type": "code",
   "execution_count": null,
   "id": "138158c9-2c49-4b62-9ade-b998577715c5",
   "metadata": {},
   "outputs": [],
   "source": [
    "grades"
   ]
  },
  {
   "cell_type": "code",
   "execution_count": null,
   "id": "1eb63aaa-7367-4f53-a085-984b35aad52c",
   "metadata": {},
   "outputs": [],
   "source": [
    "grades['Eva']"
   ]
  },
  {
   "cell_type": "code",
   "execution_count": null,
   "id": "8346bbd0-1ec5-4647-92b8-e1c16c929e98",
   "metadata": {},
   "outputs": [],
   "source": [
    "grades.Wally"
   ]
  },
  {
   "cell_type": "code",
   "execution_count": null,
   "id": "ceb21187-eaa8-4675-9d15-45d34130e290",
   "metadata": {},
   "outputs": [],
   "source": [
    "grades.values"
   ]
  },
  {
   "cell_type": "code",
   "execution_count": null,
   "id": "fcb00805-6271-4efb-a2f4-dcab22758230",
   "metadata": {},
   "outputs": [],
   "source": []
  }
 ],
 "metadata": {
  "kernelspec": {
   "display_name": "Python [conda env:root] *",
   "language": "python",
   "name": "conda-root-py"
  },
  "language_info": {
   "codemirror_mode": {
    "name": "ipython",
    "version": 3
   },
   "file_extension": ".py",
   "mimetype": "text/x-python",
   "name": "python",
   "nbconvert_exporter": "python",
   "pygments_lexer": "ipython3",
   "version": "3.9.13"
  },
  "vscode": {
   "interpreter": {
    "hash": "1a1af0ee75eeea9e2e1ee996c87e7a2b11a0bebd85af04bb136d915cefc0abce"
   }
  }
 },
 "nbformat": 4,
 "nbformat_minor": 5
}
